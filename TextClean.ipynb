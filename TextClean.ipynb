{
 "cells": [
  {
   "cell_type": "code",
   "execution_count": null,
   "id": "a489d774-4397-4e93-afda-9a3a9f332608",
   "metadata": {},
   "outputs": [],
   "source": [
    "import pandas as pd\n",
    "import datetime as dt\n",
    "from IPython.display import Markdown as md"
   ]
  },
  {
   "cell_type": "code",
   "execution_count": null,
   "id": "2a964e9e-3ac7-4950-a329-50604e307082",
   "metadata": {},
   "outputs": [],
   "source": [
    "# read in csv file with all comments and set date col to be date type"
   ]
  },
  {
   "cell_type": "code",
   "execution_count": null,
   "id": "0a8acbd0-71e5-4a7e-8b68-a49be00b0324",
   "metadata": {},
   "outputs": [],
   "source": [
    "text_to_clean = pd.read_csv('test_output.csv', parse_dates=['Date'])"
   ]
  },
  {
   "cell_type": "code",
   "execution_count": null,
   "id": "ed31d4ed-c817-4c3e-a0d7-32b048dbf9d9",
   "metadata": {},
   "outputs": [],
   "source": [
    "# remove ID and unecessary column"
   ]
  },
  {
   "cell_type": "code",
   "execution_count": null,
   "id": "531edc09-c745-45af-a298-67d93a56c3f3",
   "metadata": {},
   "outputs": [],
   "source": [
    "cols_to_drop = ['AuthorID', 'Attachments']"
   ]
  },
  {
   "cell_type": "code",
   "execution_count": null,
   "id": "7e26629e-c5d0-4f98-a68b-7a076a8eb0d5",
   "metadata": {},
   "outputs": [],
   "source": [
    "disc_chat = text_to_clean.drop(cols_to_drop, axis=1)"
   ]
  },
  {
   "cell_type": "code",
   "execution_count": null,
   "id": "c3f51371-90d4-4687-b90e-eb65a3b66dfd",
   "metadata": {},
   "outputs": [],
   "source": [
    "# set date format to yyyy/mm/dd"
   ]
  },
  {
   "cell_type": "code",
   "execution_count": null,
   "id": "07bd3705-6b05-40ee-bb65-3fe77b13e0a0",
   "metadata": {},
   "outputs": [],
   "source": [
    "disc_chat['Date'] = pd.to_datetime(disc_chat['Date']).dt.date"
   ]
  },
  {
   "cell_type": "code",
   "execution_count": null,
   "id": "43524d7c-3a4f-44ce-9b32-32065ad13860",
   "metadata": {},
   "outputs": [],
   "source": [
    "# gather starter stats"
   ]
  },
  {
   "cell_type": "code",
   "execution_count": null,
   "id": "a1e1ff92-1aa7-4f4a-9112-57e6108eb566",
   "metadata": {},
   "outputs": [],
   "source": [
    "no_posts = disc_chat.shape[0]\n",
    "no_authors = len(disc_chat['Author'].unique())\n",
    "no_days = (disc_chat['Date'].max() - disc_chat['Date'].min()).days"
   ]
  },
  {
   "cell_type": "code",
   "execution_count": null,
   "id": "f430f008-1c8f-4076-9a30-5ce01055df78",
   "metadata": {},
   "outputs": [],
   "source": [
    "md(\"Over a period of %i days there were %i posts from %i unique authors.\"%(no_days, no_posts, no_authors))"
   ]
  },
  {
   "cell_type": "code",
   "execution_count": null,
   "id": "4f0caffb-4651-4b13-bdd1-7812a1e54855",
   "metadata": {},
   "outputs": [],
   "source": [
    "#top authors"
   ]
  },
  {
   "cell_type": "code",
   "execution_count": null,
   "id": "cb054b27-389b-42f8-91c5-04abf645537e",
   "metadata": {},
   "outputs": [],
   "source": [
    "disc_chat.Author.value_counts().nlargest(5)"
   ]
  },
  {
   "cell_type": "code",
   "execution_count": null,
   "id": "01dc9a44-c0b6-43f6-aafd-b66be299a772",
   "metadata": {},
   "outputs": [],
   "source": [
    "# how many more than 1 post"
   ]
  },
  {
   "cell_type": "code",
   "execution_count": null,
   "id": "64c9cf50-8376-4013-88b2-c8e0eea0049e",
   "metadata": {},
   "outputs": [],
   "source": [
    "len(disc_chat.Author.value_counts().loc[lambda x : x>1])"
   ]
  },
  {
   "cell_type": "code",
   "execution_count": null,
   "id": "462c93b0-c69d-4f23-9db2-2866f5001dbd",
   "metadata": {},
   "outputs": [],
   "source": [
    "# how many more that 100 posts"
   ]
  },
  {
   "cell_type": "code",
   "execution_count": null,
   "id": "eea10721-9b0f-4492-a716-072841047992",
   "metadata": {},
   "outputs": [],
   "source": [
    "len(disc_chat.Author.value_counts().loc[lambda x : x>100])"
   ]
  },
  {
   "cell_type": "code",
   "execution_count": null,
   "id": "6996e0b5-d2d0-4d81-b54a-d55d4840308b",
   "metadata": {},
   "outputs": [],
   "source": [
    "# grouped data"
   ]
  },
  {
   "cell_type": "code",
   "execution_count": null,
   "id": "af772f99-b0bb-4ddc-8f96-b3b73edb2466",
   "metadata": {},
   "outputs": [],
   "source": [
    "test_group = disc_chat.groupby([\"Date\", \"Author\"]).sum()"
   ]
  },
  {
   "cell_type": "code",
   "execution_count": null,
   "id": "8bc466dc-a197-48c0-9196-89eaf9228bcd",
   "metadata": {},
   "outputs": [],
   "source": [
    "test_group"
   ]
  },
  {
   "cell_type": "code",
   "execution_count": null,
   "id": "7c0b9e4a-d216-4060-80e2-65f9925f1701",
   "metadata": {},
   "outputs": [],
   "source": [
    "disc_chat['Reactions'].dtype"
   ]
  },
  {
   "cell_type": "code",
   "execution_count": null,
   "id": "9ce71b89-cafe-4476-ab7f-2d8e36ba31b0",
   "metadata": {},
   "outputs": [],
   "source": [
    "posts_with_reaction = disc_chat.loc[~disc_chat['Reactions'].str.contains(0)]"
   ]
  },
  {
   "cell_type": "code",
   "execution_count": null,
   "id": "bf7eb2c3-b729-4110-8f46-411dea0cfad8",
   "metadata": {},
   "outputs": [],
   "source": [
    "disc_chat[~disc_chat['Reactions'].str.contains('0')]"
   ]
  },
  {
   "cell_type": "code",
   "execution_count": null,
   "id": "3888d14c-cc20-4d28-9533-9a105df6a099",
   "metadata": {},
   "outputs": [],
   "source": [
    "len(posts_with_reaction)"
   ]
  },
  {
   "cell_type": "code",
   "execution_count": null,
   "id": "9602e756-1c4e-46f7-b3f6-7122a6d4062d",
   "metadata": {},
   "outputs": [],
   "source": []
  },
  {
   "cell_type": "code",
   "execution_count": null,
   "id": "29df6120-a278-47fa-ab58-3f8a832887c0",
   "metadata": {},
   "outputs": [],
   "source": []
  },
  {
   "cell_type": "code",
   "execution_count": null,
   "id": "341146ce-1c32-4037-9212-8265d665589e",
   "metadata": {},
   "outputs": [],
   "source": []
  },
  {
   "cell_type": "code",
   "execution_count": null,
   "id": "d3378bc1-df21-4e1e-8a32-1782f23308b7",
   "metadata": {},
   "outputs": [],
   "source": []
  },
  {
   "cell_type": "code",
   "execution_count": null,
   "id": "13d9b369-9b2a-4ce2-9847-32e75f19e008",
   "metadata": {},
   "outputs": [],
   "source": []
  },
  {
   "cell_type": "code",
   "execution_count": null,
   "id": "4971e8df-f8b2-4e29-8f26-903ac86da389",
   "metadata": {},
   "outputs": [],
   "source": []
  },
  {
   "cell_type": "code",
   "execution_count": null,
   "id": "01642d4f-7433-4de9-bd6f-a0c0ef9ef59b",
   "metadata": {},
   "outputs": [],
   "source": []
  },
  {
   "cell_type": "code",
   "execution_count": null,
   "id": "28a8f260-a3dc-44d8-b90f-48b9bd47be8e",
   "metadata": {},
   "outputs": [],
   "source": []
  },
  {
   "cell_type": "code",
   "execution_count": null,
   "id": "982d4244-9c85-48ff-9806-6d242183cdfb",
   "metadata": {},
   "outputs": [],
   "source": []
  },
  {
   "cell_type": "code",
   "execution_count": null,
   "id": "8246d7a5-ff95-49c1-a9fc-91df437fe4ad",
   "metadata": {},
   "outputs": [],
   "source": []
  },
  {
   "cell_type": "code",
   "execution_count": null,
   "id": "434a213b-d104-4e27-aeea-37b95a78377d",
   "metadata": {},
   "outputs": [],
   "source": []
  },
  {
   "cell_type": "code",
   "execution_count": null,
   "id": "6246ba39-813c-46cb-a767-154347f72fc0",
   "metadata": {},
   "outputs": [],
   "source": []
  }
 ],
 "metadata": {
  "kernelspec": {
   "display_name": "Python 3 (ipykernel)",
   "language": "python",
   "name": "python3"
  },
  "language_info": {
   "codemirror_mode": {
    "name": "ipython",
    "version": 3
   },
   "file_extension": ".py",
   "mimetype": "text/x-python",
   "name": "python",
   "nbconvert_exporter": "python",
   "pygments_lexer": "ipython3",
   "version": "3.9.6"
  }
 },
 "nbformat": 4,
 "nbformat_minor": 5
}
