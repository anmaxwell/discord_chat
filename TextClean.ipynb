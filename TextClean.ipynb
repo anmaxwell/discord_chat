{
 "cells": [
  {
   "cell_type": "code",
   "execution_count": null,
   "id": "a489d774-4397-4e93-afda-9a3a9f332608",
   "metadata": {},
   "outputs": [],
   "source": [
    "import pandas as pd"
   ]
  },
  {
   "cell_type": "code",
   "execution_count": null,
   "id": "2a964e9e-3ac7-4950-a329-50604e307082",
   "metadata": {},
   "outputs": [],
   "source": [
    "# read in csv file with all comments and set date col to be date type"
   ]
  },
  {
   "cell_type": "code",
   "execution_count": null,
   "id": "0a8acbd0-71e5-4a7e-8b68-a49be00b0324",
   "metadata": {},
   "outputs": [],
   "source": [
    "text_to_clean = pd.read_csv('test_output.csv', parse_dates=['Date'])"
   ]
  },
  {
   "cell_type": "code",
   "execution_count": null,
   "id": "ed31d4ed-c817-4c3e-a0d7-32b048dbf9d9",
   "metadata": {},
   "outputs": [],
   "source": [
    "# remove names and unecessary column, set date format to dd/mm/yyyy"
   ]
  },
  {
   "cell_type": "code",
   "execution_count": null,
   "id": "531edc09-c745-45af-a298-67d93a56c3f3",
   "metadata": {},
   "outputs": [],
   "source": [
    "cols_to_drop = ['Author', 'Attachments']"
   ]
  },
  {
   "cell_type": "code",
   "execution_count": null,
   "id": "7e26629e-c5d0-4f98-a68b-7a076a8eb0d5",
   "metadata": {},
   "outputs": [],
   "source": [
    "anon_text = text_to_clean.drop(cols_to_drop, axis=1)"
   ]
  },
  {
   "cell_type": "code",
   "execution_count": null,
   "id": "07bd3705-6b05-40ee-bb65-3fe77b13e0a0",
   "metadata": {},
   "outputs": [],
   "source": [
    "anon_text['Date'] = anon_text['Date'].dt.strftime('%d/%m/%Y')"
   ]
  },
  {
   "cell_type": "code",
   "execution_count": null,
   "id": "702d1985-7a0a-4293-ad8f-1a3b75bbe65a",
   "metadata": {},
   "outputs": [],
   "source": [
    "#look at how many unique authors there are"
   ]
  },
  {
   "cell_type": "code",
   "execution_count": null,
   "id": "9f37f998-9601-491f-9c77-2455f0756b0b",
   "metadata": {},
   "outputs": [],
   "source": [
    "#look at how many unique authors with more than 1 post"
   ]
  },
  {
   "cell_type": "code",
   "execution_count": null,
   "id": "05ee01c0-e043-4706-9cf7-4bbb17c7989a",
   "metadata": {},
   "outputs": [],
   "source": [
    "#look at the top contributors"
   ]
  },
  {
   "cell_type": "code",
   "execution_count": null,
   "id": "cb8dedd2-2f21-4db9-9325-ea52c73f1ccb",
   "metadata": {},
   "outputs": [],
   "source": [
    "#look at the contributions per day for the top contributors"
   ]
  },
  {
   "cell_type": "code",
   "execution_count": null,
   "id": "8246d7a5-ff95-49c1-a9fc-91df437fe4ad",
   "metadata": {},
   "outputs": [],
   "source": []
  }
 ],
 "metadata": {
  "kernelspec": {
   "display_name": "Python 3 (ipykernel)",
   "language": "python",
   "name": "python3"
  },
  "language_info": {
   "codemirror_mode": {
    "name": "ipython",
    "version": 3
   },
   "file_extension": ".py",
   "mimetype": "text/x-python",
   "name": "python",
   "nbconvert_exporter": "python",
   "pygments_lexer": "ipython3",
   "version": "3.9.6"
  }
 },
 "nbformat": 4,
 "nbformat_minor": 5
}
