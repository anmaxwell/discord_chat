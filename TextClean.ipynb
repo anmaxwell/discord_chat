{
 "cells": [
  {
   "cell_type": "code",
   "execution_count": null,
   "id": "a489d774-4397-4e93-afda-9a3a9f332608",
   "metadata": {},
   "outputs": [],
   "source": [
    "import pandas as pd\n",
    "import datetime as dt\n",
    "from IPython.display import Markdown as md\n",
    "pd.plotting.register_matplotlib_converters()\n",
    "import matplotlib.pyplot as plt\n",
    "%matplotlib inline\n",
    "import seaborn as sns\n",
    "import re"
   ]
  },
  {
   "cell_type": "code",
   "execution_count": null,
   "id": "2a964e9e-3ac7-4950-a329-50604e307082",
   "metadata": {},
   "outputs": [],
   "source": [
    "# read in csv file with all comments and set date col to be date type"
   ]
  },
  {
   "cell_type": "code",
   "execution_count": null,
   "id": "0a8acbd0-71e5-4a7e-8b68-a49be00b0324",
   "metadata": {},
   "outputs": [],
   "source": [
    "text_to_clean = pd.read_csv('test_output.csv', parse_dates=['Date'])"
   ]
  },
  {
   "cell_type": "code",
   "execution_count": null,
   "id": "ed31d4ed-c817-4c3e-a0d7-32b048dbf9d9",
   "metadata": {},
   "outputs": [],
   "source": [
    "# remove ID and unecessary column"
   ]
  },
  {
   "cell_type": "code",
   "execution_count": null,
   "id": "531edc09-c745-45af-a298-67d93a56c3f3",
   "metadata": {},
   "outputs": [],
   "source": [
    "cols_to_drop = ['AuthorID', 'Attachments']"
   ]
  },
  {
   "cell_type": "code",
   "execution_count": null,
   "id": "7e26629e-c5d0-4f98-a68b-7a076a8eb0d5",
   "metadata": {},
   "outputs": [],
   "source": [
    "full_chat = text_to_clean.drop(cols_to_drop, axis=1)"
   ]
  },
  {
   "cell_type": "code",
   "execution_count": null,
   "id": "2f25eddd-0de7-43b8-a717-6814cae0bbe8",
   "metadata": {},
   "outputs": [],
   "source": [
    "# drop posts by admin '0xmunching'"
   ]
  },
  {
   "cell_type": "code",
   "execution_count": null,
   "id": "ec103fc9-d0bf-4647-a597-31638f3f0c66",
   "metadata": {},
   "outputs": [],
   "source": [
    "disc_chat = full_chat.drop(full_chat[full_chat.Author == '0xmunching'].index)"
   ]
  },
  {
   "cell_type": "code",
   "execution_count": null,
   "id": "563e0ca9-8c92-4804-9018-c9aef89a4264",
   "metadata": {},
   "outputs": [],
   "source": [
    "# set all content to lower case, remove special characters then drop posts containing ‘gm’, ‘hi’ and NaN"
   ]
  },
  {
   "cell_type": "code",
   "execution_count": null,
   "id": "383ba65a-cc3a-4289-ba42-a32a073c1201",
   "metadata": {},
   "outputs": [],
   "source": [
    "disc_chat['Content'] = disc_chat['Content'].str.lower()"
   ]
  },
  {
   "cell_type": "code",
   "execution_count": null,
   "id": "bb0c5020-27f9-418b-ac0d-d3c55bcbb16c",
   "metadata": {},
   "outputs": [],
   "source": [
    "disc_chat['Content'] = disc_chat['Content'].str.replace('[^\\w\\s]', '')"
   ]
  },
  {
   "cell_type": "code",
   "execution_count": null,
   "id": "e7260dae-729d-41d4-91ee-b81eaf3be5e3",
   "metadata": {},
   "outputs": [],
   "source": [
    "disc_chat = disc_chat[~disc_chat['Content'].isin(['gm', 'hi', 'hello', 'lol'])]"
   ]
  },
  {
   "cell_type": "code",
   "execution_count": null,
   "id": "b7dffb1a-d09d-4f42-bc41-20f65ae1447e",
   "metadata": {},
   "outputs": [],
   "source": [
    "disc_chat = disc_chat[disc_chat['Content'].notna()]"
   ]
  },
  {
   "cell_type": "code",
   "execution_count": null,
   "id": "c0de11a5-1fe7-489e-89ee-b85b628f60ab",
   "metadata": {},
   "outputs": [],
   "source": [
    "# remove stop words"
   ]
  },
  {
   "cell_type": "code",
   "execution_count": null,
   "id": "239229e5-e8db-4d52-bf0a-a03a919211b0",
   "metadata": {},
   "outputs": [],
   "source": []
  },
  {
   "cell_type": "code",
   "execution_count": null,
   "id": "c3f51371-90d4-4687-b90e-eb65a3b66dfd",
   "metadata": {},
   "outputs": [],
   "source": [
    "# set date format to yyyy/mm/dd"
   ]
  },
  {
   "cell_type": "code",
   "execution_count": null,
   "id": "07bd3705-6b05-40ee-bb65-3fe77b13e0a0",
   "metadata": {},
   "outputs": [],
   "source": [
    "disc_chat['Date'] = pd.to_datetime(disc_chat['Date']).dt.date"
   ]
  },
  {
   "cell_type": "code",
   "execution_count": null,
   "id": "43524d7c-3a4f-44ce-9b32-32065ad13860",
   "metadata": {},
   "outputs": [],
   "source": [
    "# gather starter stats"
   ]
  },
  {
   "cell_type": "code",
   "execution_count": null,
   "id": "a1e1ff92-1aa7-4f4a-9112-57e6108eb566",
   "metadata": {},
   "outputs": [],
   "source": [
    "no_posts = disc_chat.shape[0]\n",
    "no_authors = len(disc_chat['Author'].unique())\n",
    "no_days = (disc_chat['Date'].max() - disc_chat['Date'].min()).days"
   ]
  },
  {
   "cell_type": "code",
   "execution_count": null,
   "id": "4f0caffb-4651-4b13-bdd1-7812a1e54855",
   "metadata": {},
   "outputs": [],
   "source": [
    "# top authors"
   ]
  },
  {
   "cell_type": "code",
   "execution_count": null,
   "id": "cb054b27-389b-42f8-91c5-04abf645537e",
   "metadata": {},
   "outputs": [],
   "source": [
    "top_contributors = disc_chat.Author.value_counts().nlargest(5)"
   ]
  },
  {
   "cell_type": "code",
   "execution_count": null,
   "id": "f46c56a2-6be8-487d-9290-796b4ef6e1b4",
   "metadata": {},
   "outputs": [],
   "source": [
    "# find the top contributer and number of chats"
   ]
  },
  {
   "cell_type": "code",
   "execution_count": null,
   "id": "f48c4569-b3dd-44f3-aa87-e9fec7a81dbf",
   "metadata": {},
   "outputs": [],
   "source": [
    "top_contributor = top_contributors.index[0]"
   ]
  },
  {
   "cell_type": "code",
   "execution_count": null,
   "id": "86fb09ff-2e26-445a-bf97-802d1fbe2a96",
   "metadata": {},
   "outputs": [],
   "source": [
    "top_chats = top_contributors.iloc[0]"
   ]
  },
  {
   "cell_type": "code",
   "execution_count": null,
   "id": "d2f888c1-16cd-49c0-9a77-2153bab70358",
   "metadata": {},
   "outputs": [],
   "source": [
    "# how many contributors had more that 1 post"
   ]
  },
  {
   "cell_type": "code",
   "execution_count": null,
   "id": "64c9cf50-8376-4013-88b2-c8e0eea0049e",
   "metadata": {},
   "outputs": [],
   "source": [
    "multi_contributors = len(disc_chat.Author.value_counts().loc[lambda x : x>1])"
   ]
  },
  {
   "cell_type": "code",
   "execution_count": null,
   "id": "462c93b0-c69d-4f23-9db2-2866f5001dbd",
   "metadata": {},
   "outputs": [],
   "source": [
    "# how many had more that 100 posts"
   ]
  },
  {
   "cell_type": "code",
   "execution_count": null,
   "id": "eea10721-9b0f-4492-a716-072841047992",
   "metadata": {},
   "outputs": [],
   "source": [
    "hundy_contributors = len(disc_chat.Author.value_counts().loc[lambda x : x>100])"
   ]
  },
  {
   "cell_type": "code",
   "execution_count": null,
   "id": "20d6a7e9-998f-437a-b5a7-d61f1c6026f3",
   "metadata": {},
   "outputs": [],
   "source": [
    "# what is the longest chat"
   ]
  },
  {
   "cell_type": "code",
   "execution_count": null,
   "id": "08a3bf5f-50a5-4040-b0c4-7331b257cace",
   "metadata": {},
   "outputs": [],
   "source": [
    "# how many chats are over 100 characters"
   ]
  },
  {
   "cell_type": "code",
   "execution_count": null,
   "id": "51e7c977-1ee7-41be-9e8e-966fea3ab38c",
   "metadata": {},
   "outputs": [],
   "source": [
    "# how many have just a single word"
   ]
  },
  {
   "cell_type": "code",
   "execution_count": null,
   "id": "9b75f77f-3638-459d-b845-abc7762d5d0b",
   "metadata": {},
   "outputs": [],
   "source": [
    "# how many have just a single word"
   ]
  },
  {
   "cell_type": "code",
   "execution_count": null,
   "id": "02bd6a68-373d-433e-8f60-ef245cc7f251",
   "metadata": {},
   "outputs": [],
   "source": []
  },
  {
   "cell_type": "code",
   "execution_count": null,
   "id": "213b91bd-7f89-468d-8327-fd40d75596b2",
   "metadata": {},
   "outputs": [],
   "source": []
  },
  {
   "cell_type": "code",
   "execution_count": null,
   "id": "6996e0b5-d2d0-4d81-b54a-d55d4840308b",
   "metadata": {},
   "outputs": [],
   "source": [
    "# grouped data"
   ]
  },
  {
   "cell_type": "code",
   "execution_count": null,
   "id": "af772f99-b0bb-4ddc-8f96-b3b73edb2466",
   "metadata": {},
   "outputs": [],
   "source": [
    "test_group = disc_chat.groupby([\"Date\"]).sum()"
   ]
  },
  {
   "cell_type": "code",
   "execution_count": null,
   "id": "29df6120-a278-47fa-ab58-3f8a832887c0",
   "metadata": {},
   "outputs": [],
   "source": []
  },
  {
   "cell_type": "code",
   "execution_count": null,
   "id": "dc794a58-d2a7-4f75-b658-c62ca15b6d50",
   "metadata": {},
   "outputs": [],
   "source": [
    "md(\"Over a period of %i days there were %i posts from %i unique authors.\"%(no_days, no_posts, no_authors))"
   ]
  },
  {
   "cell_type": "code",
   "execution_count": null,
   "id": "341146ce-1c32-4037-9212-8265d665589e",
   "metadata": {},
   "outputs": [],
   "source": [
    "md(\"The top contributer over the period is %s with a total of %i chats.\"%(top_contributor, top_chats))"
   ]
  },
  {
   "cell_type": "code",
   "execution_count": null,
   "id": "608025ba-06eb-4f1b-bfea-3f9ea4af1936",
   "metadata": {},
   "outputs": [],
   "source": [
    "md(\"There were %i contributers that made more than one chat, and %i that had over 100 chats.\"%(multi_contributors, hundy_contributors))"
   ]
  },
  {
   "cell_type": "code",
   "execution_count": null,
   "id": "d3378bc1-df21-4e1e-8a32-1782f23308b7",
   "metadata": {},
   "outputs": [],
   "source": [
    "# how does the number of chats change over time"
   ]
  },
  {
   "cell_type": "code",
   "execution_count": null,
   "id": "13d9b369-9b2a-4ce2-9847-32e75f19e008",
   "metadata": {},
   "outputs": [],
   "source": [
    "tmser = disc_chat.groupby(['Date']).size().to_frame()"
   ]
  },
  {
   "cell_type": "code",
   "execution_count": null,
   "id": "01642d4f-7433-4de9-bd6f-a0c0ef9ef59b",
   "metadata": {},
   "outputs": [],
   "source": [
    "plt.figure(figsize=(12,6))\n",
    "plt.title('Count of Chats')\n",
    "plt.xlabel('Date')\n",
    "plt.ylabel('Chats')\n",
    "sns.lineplot(data=tmser)"
   ]
  },
  {
   "cell_type": "code",
   "execution_count": null,
   "id": "569c0865-b73a-46eb-8a96-4e85b9cc9454",
   "metadata": {},
   "outputs": [],
   "source": [
    "md(\"The above chart shows 2 spikes in conversation - the first on go live and the second when the event occurred.\""
   ]
  },
  {
   "cell_type": "code",
   "execution_count": null,
   "id": "28a8f260-a3dc-44d8-b90f-48b9bd47be8e",
   "metadata": {},
   "outputs": [],
   "source": [
    "# how does the number of chats change over time for the top contributors"
   ]
  },
  {
   "cell_type": "code",
   "execution_count": null,
   "id": "ef534c94-f510-473c-ac3c-ffa7ff274706",
   "metadata": {},
   "outputs": [],
   "source": [
    "top_cont_list = top_contributors.index.to_list()"
   ]
  },
  {
   "cell_type": "code",
   "execution_count": null,
   "id": "982d4244-9c85-48ff-9806-6d242183cdfb",
   "metadata": {},
   "outputs": [],
   "source": [
    "top_disc_chat = disc_chat[disc_chat['Author'].isin(top_cont_list)].copy()"
   ]
  },
  {
   "cell_type": "code",
   "execution_count": null,
   "id": "0e808da1-8766-4124-b66f-4afc1b2681ad",
   "metadata": {},
   "outputs": [],
   "source": [
    "top_tmser = top_disc_chat.groupby(['Date']).size().to_frame()"
   ]
  },
  {
   "cell_type": "code",
   "execution_count": null,
   "id": "8246d7a5-ff95-49c1-a9fc-91df437fe4ad",
   "metadata": {},
   "outputs": [],
   "source": [
    "plt.figure(figsize=(12,6))\n",
    "plt.title('Chats by Top Contributors')\n",
    "sns.lineplot(data = top_tmser)\n",
    "plt.xlabel('Date')\n",
    "plt.ylabel('No. Chats')"
   ]
  },
  {
   "cell_type": "code",
   "execution_count": null,
   "id": "050b4ab8-7553-41f3-9e2c-37dede0f725c",
   "metadata": {},
   "outputs": [],
   "source": [
    "# how does the number of chats change over time excluding the top contributors"
   ]
  },
  {
   "cell_type": "code",
   "execution_count": null,
   "id": "5874d220-e5d6-4d0d-8321-e143a3a8cbcc",
   "metadata": {},
   "outputs": [],
   "source": [
    "btm_disc_chat = disc_chat[disc_chat['Author'].!isin(top_cont_list)].copy()"
   ]
  },
  {
   "cell_type": "code",
   "execution_count": null,
   "id": "abc5af91-45e6-4b18-8f98-091dab5e58ae",
   "metadata": {},
   "outputs": [],
   "source": [
    "btm_tmser = btm_disc_chat.groupby(['Date']).size().to_frame()"
   ]
  },
  {
   "cell_type": "code",
   "execution_count": null,
   "id": "f4fe213e-af8c-40c2-a265-5671788e4c64",
   "metadata": {},
   "outputs": [],
   "source": [
    "plt.figure(figsize=(12,6))\n",
    "plt.title('Chats excluding Top Contributors')\n",
    "sns.lineplot(data = btm_tmser)\n",
    "plt.xlabel('Date')\n",
    "plt.ylabel('No. Chats')"
   ]
  },
  {
   "cell_type": "code",
   "execution_count": null,
   "id": "0db898fa-1a5b-413f-9b04-ee887de1c073",
   "metadata": {},
   "outputs": [],
   "source": [
    "md(\"The above chart shows the same spikes - meaning the  .\""
   ]
  },
  {
   "cell_type": "code",
   "execution_count": null,
   "id": "dfa275e1-514a-431a-8f87-6dc6614499a5",
   "metadata": {},
   "outputs": [],
   "source": [
    "# use huggingface sentiment analysis on content to get scores to show sentiment of chats"
   ]
  },
  {
   "cell_type": "code",
   "execution_count": null,
   "id": "0b42f91e-41c4-4606-8117-668e636e31b1",
   "metadata": {},
   "outputs": [],
   "source": [
    "import tensorflow\n",
    "import torch\n",
    "from transformers import pipeline"
   ]
  },
  {
   "cell_type": "code",
   "execution_count": null,
   "id": "3c2eef2f-4a32-421c-ba76-6b163f239937",
   "metadata": {},
   "outputs": [],
   "source": [
    "sentiment_pipeline = sentiment_analysis = pipeline(\"sentiment-analysis\",model=\"siebert/sentiment-roberta-large-english\")"
   ]
  },
  {
   "cell_type": "code",
   "execution_count": null,
   "id": "6b650f08-cf24-4a58-a1bf-08a6a3d05ff4",
   "metadata": {},
   "outputs": [],
   "source": [
    "data = [\"I love you\", \"I hate you\"]"
   ]
  },
  {
   "cell_type": "code",
   "execution_count": null,
   "id": "77e8c550-2121-4f10-9456-ddefb7cf52d0",
   "metadata": {},
   "outputs": [],
   "source": [
    "sentiment_pipeline(data)"
   ]
  },
  {
   "cell_type": "code",
   "execution_count": null,
   "id": "9a93e7fb-5edc-4172-b86c-6b2d90a9986a",
   "metadata": {},
   "outputs": [],
   "source": [
    "data = disc_chat['Content'].to_list()"
   ]
  },
  {
   "cell_type": "code",
   "execution_count": null,
   "id": "852d7047-0664-4f76-ba22-5585311cf509",
   "metadata": {},
   "outputs": [],
   "source": [
    "data[1:6]"
   ]
  },
  {
   "cell_type": "code",
   "execution_count": null,
   "id": "aab8c87e-da09-4df7-8da2-df2562260cfe",
   "metadata": {},
   "outputs": [],
   "source": [
    "test = disc_chat"
   ]
  },
  {
   "cell_type": "code",
   "execution_count": null,
   "id": "a69cb7b5-0070-4c3a-8a9d-1809bebf4d61",
   "metadata": {},
   "outputs": [],
   "source": [
    "test['str_len']  = test['Content'].str.len()"
   ]
  },
  {
   "cell_type": "code",
   "execution_count": null,
   "id": "4ad34aad-83d2-41c8-b626-dcc94077204c",
   "metadata": {},
   "outputs": [],
   "source": [
    "test.head()"
   ]
  },
  {
   "cell_type": "code",
   "execution_count": null,
   "id": "353b230c-15f3-4a08-b741-f07afc88ca36",
   "metadata": {},
   "outputs": [],
   "source": [
    "long_str = test[test['str_len']>100]"
   ]
  },
  {
   "cell_type": "code",
   "execution_count": null,
   "id": "707220e0-db3f-4797-916f-65f1ac58c1a6",
   "metadata": {},
   "outputs": [],
   "source": [
    "long_str"
   ]
  },
  {
   "cell_type": "code",
   "execution_count": null,
   "id": "05f79c90-1dc9-4e49-8b86-0d55b833adc6",
   "metadata": {},
   "outputs": [],
   "source": [
    "test_score = [sub['score'] for sub in test]"
   ]
  },
  {
   "cell_type": "code",
   "execution_count": null,
   "id": "091e0e5b-e5d0-4f42-a80a-19325eac8784",
   "metadata": {},
   "outputs": [],
   "source": []
  },
  {
   "cell_type": "code",
   "execution_count": null,
   "id": "e016469d-92a3-40ef-96ab-a4c78b24e30a",
   "metadata": {},
   "outputs": [],
   "source": [
    "from gensim.parsing.preprocessing import remove_stopwords"
   ]
  },
  {
   "cell_type": "code",
   "execution_count": null,
   "id": "9b38e3b6-798b-4c16-8e95-2e515873207a",
   "metadata": {},
   "outputs": [],
   "source": [
    "# Define a list of words \n",
    "words = [\"the\", \"quick\", \"brown\", \"fox\", \"jumps\", \"over\", \"the\", \"lazy\", \"dog\"] "
   ]
  },
  {
   "cell_type": "code",
   "execution_count": null,
   "id": "0a95d4a7-0e1d-437c-a1ec-117e2e1c8f5f",
   "metadata": {},
   "outputs": [],
   "source": [
    "# Remove the stop words \n",
    "filtered_words = remove_stopwords(words) "
   ]
  },
  {
   "cell_type": "code",
   "execution_count": null,
   "id": "8bdcb446-0e18-48ac-ac90-6b55118883b0",
   "metadata": {},
   "outputs": [],
   "source": []
  }
 ],
 "metadata": {
  "kernelspec": {
   "display_name": "Python 3 (ipykernel)",
   "language": "python",
   "name": "python3"
  },
  "language_info": {
   "codemirror_mode": {
    "name": "ipython",
    "version": 3
   },
   "file_extension": ".py",
   "mimetype": "text/x-python",
   "name": "python",
   "nbconvert_exporter": "python",
   "pygments_lexer": "ipython3",
   "version": "3.9.6"
  }
 },
 "nbformat": 4,
 "nbformat_minor": 5
}
